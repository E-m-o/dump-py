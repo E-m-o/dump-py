{
 "cells": [
  {
   "cell_type": "code",
   "execution_count": 2,
   "metadata": {},
   "outputs": [],
   "source": [
    "import numpy\n",
    "import matplotlib.pyplot as plt"
   ]
  },
  {
   "cell_type": "code",
   "execution_count": null,
   "metadata": {},
   "outputs": [],
   "source": [
    "dataset = np.genfromtxt(\"Dataset.csv\", delimeter = ',')\n",
    "data = dataset[:,:-1]\n",
    "label = dataset[:,-1]\n",
    "labels = np.unique(label)\n",
    "cov = np.cov(data.T)\n",
    "X_p = np.data([data[i] for i in range(len(label)) if label == labels[0]])\n",
    "X_n = np.data([data[i] for i in range(len(label)) if label == labels[1]])\n",
    "plt.figure(figsize = (6,5), dpi = 80)\n",
    "plt.scatter(X_p[:,0], X_p[:,1], s=10, c='r')\n",
    "plt.scatter(X_n[:,0], X_n[:,1], s=10, c='b')\n",
    "plt.xlabel(\"x-axis\")\n",
    "plt.ylabel(\"y-axis\")\n",
    "plt.title(\"Scatter Plot\")\n",
    "plt.show()"
   ]
  },
  {
   "cell_type": "markdown",
   "metadata": {},
   "source": [
    "## Processing Data"
   ]
  },
  {
   "cell_type": "code",
   "execution_count": null,
   "metadata": {},
   "outputs": [],
   "source": [
    "#calculating Cov\n",
    "def cov_m(data):\n",
    "    return np.cov(data.T)\n",
    "def mean(data):\n",
    "    return np.mean(data.T, axis=1)"
   ]
  },
  {
   "cell_type": "code",
   "execution_count": null,
   "metadata": {},
   "outputs": [],
   "source": [
    "#Case 1\n",
    "c = np.zeros([2,2])\n",
    "c[0][0] = cov[0][0]\n",
    "c[1][1] = cov[0][0]\n",
    "m1 = mean(X_p).T\n",
    "m2 = mean(X_n).T\n",
    "\n",
    "W1 = (m1 - m2)/ cov[0][0]\n",
    "b1 = -0.5*(np.dot(m1.T,m1) - np.dot(m2.T,m2))/cov[0][0]\n",
    "\n",
    "def boundary1(x2):\n",
    "    return -W1[0]*x2 + b1\n",
    "\n",
    "x1 = np.arange(-10,10,0.1)\n",
    "x2 = [boundary1(i) for i in x1]\n",
    "plt.figure(figsize = (6,5), dpi = 80)\n",
    "plt.scatter(X_p[:,0], X_p[:,1], s=10, c='r')\n",
    "plt.scatter(X_n[:,0], X_n[:,1], s=10, c='b')\n",
    "plt.plot(x1,x2,'k--')\n",
    "plt.xlabel(\"x-axis\")\n",
    "plt.ylabel(\"y-axis\")\n",
    "plt.title(\"Case-1\")\n",
    "plt.show()"
   ]
  },
  {
   "cell_type": "code",
   "execution_count": null,
   "metadata": {},
   "outputs": [],
   "source": [
    "#Case 2\n",
    "c2 = cov_m(X_p)\n",
    "W2 = (np.dot(np.linalg.inv(c), (m1-m2)))\n",
    "b2 = -0.5*(np.dot(np.dot(m1.T,np.linalg.inv(c)),m1) - np.dot(np.dot(m2.T,np.linalg.inv(c)),m2))\n",
    "\n",
    "def boundary2(x2):\n",
    "    return -W2[0]*x2 + b2\n",
    "    \n",
    "x1 = np.arange(-10,10,0.1)\n",
    "x2 = [boundary2(i) for i in x1]\n",
    "plt.figure(figsize = (6,5), dpi = 80)\n",
    "plt.scatter(X_p[:,0], X_p[:,1], s=10, c='r')\n",
    "plt.scatter(X_n[:,0], X_n[:,1], s=10, c='b')\n",
    "plt.plot(x1,x2,'k--')\n",
    "plt.xlabel(\"x-axis\")\n",
    "plt.ylabel(\"y-axis\")\n",
    "plt.title(\"Case-2\")\n",
    "plt.show()"
   ]
  },
  {
   "cell_type": "code",
   "execution_count": null,
   "metadata": {},
   "outputs": [],
   "source": [
    "#Case 3\n",
    "c1_inv = np.linalg.inc(cov_m(X_p))\n",
    "c2_inv = np.linalg.inc(cov_m(X_n))\n",
    "A = 0.5*(c2_inv - c1_inv)\n",
    "B = (np.dot(c1_inv,m1) - np.dot(c2_inv,m2))\n",
    "det_c1 = np.linalg.det(cov_m(X_p))\n",
    "det_c2 = np.linalg.det(cov_m(X_n))\n",
    "d = -0.5*((np.log(det_c1/det_c2)) + (np.dot(m1.T,np.dot(c1_inv,m1))) - np.dot(m2.T,np.dot(c2_inv,m2)))\n",
    "\n",
    "def boundary3(x2_3):\n",
    "    return A[0][0]*x2_3**2 - B[0]*x2_3 + d\n",
    "\n",
    "x1_3 = np.arange(-10,10,0.1)\n",
    "x2 = [boundary3(i) for i in x1_3]\n",
    "plt.figure(figsize = (6,5), dpi = 80)\n",
    "plt.scatter(X_p[:,0], X_p[:,1], s=10, c='r')\n",
    "plt.scatter(X_n[:,0], X_n[:,1], s=10, c='b')\n",
    "plt.plot(x1,x2,'k--')\n",
    "plt.xlabel(\"x-axis\")\n",
    "plt.ylabel(\"y-axis\")\n",
    "plt.title(\"Case-3\")\n",
    "plt.show()"
   ]
  }
 ],
 "metadata": {
  "kernelspec": {
   "display_name": "Python 3.8.2 64-bit",
   "language": "python",
   "name": "python38264bitb115a7b4eb234140bc725aef1a0fec47"
  },
  "language_info": {
   "codemirror_mode": {
    "name": "ipython",
    "version": 3
   },
   "file_extension": ".py",
   "mimetype": "text/x-python",
   "name": "python",
   "nbconvert_exporter": "python",
   "pygments_lexer": "ipython3",
   "version": "3.8.2"
  }
 },
 "nbformat": 4,
 "nbformat_minor": 4
}
