{
 "cells": [
  {
   "cell_type": "code",
   "execution_count": 1,
   "metadata": {},
   "outputs": [],
   "source": [
    "import numpy as np"
   ]
  },
  {
   "cell_type": "markdown",
   "metadata": {},
   "source": [
    "# QUESTION 1"
   ]
  },
  {
   "cell_type": "code",
   "execution_count": null,
   "metadata": {},
   "outputs": [],
   "source": [
    "def warmup_1():\n",
    "    #generate A\n",
    "    A = np.random.randint(10,21,(6,6))\n",
    "    \n",
    "    #Q1.A\n",
    "    parts = []\n",
    "    for i in range(0,3):\n",
    "        for j in range(0,3):\n",
    "            parts.append(A[2*i:2*(i+1),2*j:2*(j+1)].reshape(1,2,2))\n",
    "    #Q1.B\n",
    "    np.concatenate(parts,axis=0)\n",
    "    #Q1.C\n",
    "    B = np.random.randint(15,21,(6,6))\n",
    "    \n",
    "    #1.D\n",
    "    C = np.where(A>B,A,B)\n",
    "    print(C)\n",
    "    \n",
    "    #1.E\n",
    "    D = np.where((A-B)%2,B,A)\n",
    "    pritn(D)\n",
    "\n",
    "    #1.F\n",
    "    D_equals_A = np.argwhere(D==A).shape[0]"
   ]
  },
  {
   "cell_type": "markdown",
   "metadata": {},
   "source": [
    "# QUESTION 2"
   ]
  },
  {
   "cell_type": "code",
   "execution_count": null,
   "metadata": {},
   "outputs": [],
   "source": [
    "def consecutive_2d_grid(num,along='row'):\n",
    "    if along == 'row':\n",
    "        X = np.ones((num,num))\n",
    "        for i in range(0,num):\n",
    "            X[i,:] = np.arange((i*num)+1,((i+1)*num)+1)\n",
    "    if along == 'column':\n",
    "        X = np.ones((num,num))\n",
    "        for i in range(0,num):\n",
    "            X[:,i] = np.arange((i*num)+1,((i+1)*num)+1)\n",
    "    return X"
   ]
  },
  {
   "cell_type": "markdown",
   "metadata": {},
   "source": [
    "# QUESTION 3"
   ]
  },
  {
   "cell_type": "code",
   "execution_count": 74,
   "metadata": {},
   "outputs": [],
   "source": [
    "def warmup_3():\n",
    "    #generate B\n",
    "    B = np.random.uniform(-5,5,(5,7))\n",
    "    print(B)\n",
    "    \n",
    "    #Q3.1\n",
    "    avg_max_row = np.average(np.max(B, axis=1))\n",
    "    #print(avg_max_row)\n",
    "    \n",
    "    #Q3.2\n",
    "    min_max_col = np.min(np.max(B, axis = 0))\n",
    "    #print(min_max_col)\n",
    "    \n",
    "    #Q3.3\n",
    "    C = B/np.max(B, axis = 0)\n",
    "    #print(C)\n",
    "    \n",
    "    #3.4\n",
    "    D = B/np.sum(B, axis = 1).reshape(5,1)\n",
    "    #print(D)\n",
    "    \n",
    "    #Q3.5\n",
    "    col_max_bool = B == np.max(B,axis = 0)\n",
    "    row_max_bool = B == np.max(B,axis = 1).reshape(5,1)\n",
    "    row_col_max = B[np.logical_and(row_max_bool,col_max_bool)]\n",
    "    #print(row_col_max)"
   ]
  },
  {
   "cell_type": "markdown",
   "metadata": {},
   "source": [
    "# QUESTION 4"
   ]
  },
  {
   "cell_type": "code",
   "execution_count": 82,
   "metadata": {},
   "outputs": [],
   "source": [
    "def warmup_4():\n",
    "    #generate A\n",
    "    A = np.random.randint(-5,5,(9,9))\n",
    "    #print(A)\n",
    "    \n",
    "    #Q4.1\n",
    "    B = np.random.randint(10,21,(9,))\n",
    "    #print(B)\n",
    "    \n",
    "    #Q4.2\n",
    "    A = A + B.reshape(9,1)\n",
    "    #print(A)\n",
    "    \n",
    "    #Q4.3\n",
    "    A = A + B.reshape(-1,1)\n",
    "    #print(A)\n",
    "    \n",
    "    #Q4.4\n",
    "    block = []\n",
    "    for i in range(0,3):\n",
    "        for j in range(0,3):\n",
    "            block.append(A[3*i:3*(i+1),3*j:3*(j+1)])\n",
    "    b_sum = []\n",
    "    for i in range(0,9):\n",
    "        b_sum.append(np.ndarray.sum(block[i].reshape(9,1)))\n",
    "    block_sum = np.array(b_sum).reshape(3,3)\n",
    "    #print(block_sum)"
   ]
  },
  {
   "cell_type": "markdown",
   "metadata": {},
   "source": [
    "# Question 5"
   ]
  },
  {
   "cell_type": "code",
   "execution_count": 89,
   "metadata": {},
   "outputs": [],
   "source": [
    "def warmup_5():\n",
    "    A = np.linspace(-1,1,10)\n",
    "    X = A.reshape(1,10)*A.reshape(10,1)\n",
    "    #print(X)"
   ]
  }
 ],
 "metadata": {
  "kernelspec": {
   "display_name": "Python 3",
   "language": "python",
   "name": "python3"
  },
  "language_info": {
   "codemirror_mode": {
    "name": "ipython",
    "version": 3
   },
   "file_extension": ".py",
   "mimetype": "text/x-python",
   "name": "python",
   "nbconvert_exporter": "python",
   "pygments_lexer": "ipython3",
   "version": "3.8.2"
  }
 },
 "nbformat": 4,
 "nbformat_minor": 4
}
