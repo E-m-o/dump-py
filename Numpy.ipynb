{
 "cells": [
  {
   "cell_type": "code",
   "execution_count": 43,
   "metadata": {},
   "outputs": [],
   "source": [
    "import numpy as np"
   ]
  },
  {
   "cell_type": "markdown",
   "metadata": {},
   "source": [
    "# QUESTION 1"
   ]
  },
  {
   "cell_type": "code",
   "execution_count": 33,
   "metadata": {},
   "outputs": [],
   "source": [
    "def warmup_1():\n",
    "    #generate A\n",
    "    A = np.random.randint(10,21,(6,6))\n",
    "    \n",
    "    #Q1.A\n",
    "    parts = []\n",
    "    for i in range(0,3):\n",
    "        for j in range(0,3):\n",
    "            parts.append(A[2*i:2*(i+1),2*j:2*(j+1)].reshape(1,2,2))\n",
    "    #Q1.B\n",
    "    np.concatenate(parts,axis=0)\n",
    "    #Q1.C\n",
    "    B = np.random.randint(15,21,(6,6))\n",
    "    \n",
    "    #1.D\n",
    "    C = np.where(A>B,A,B)\n",
    "    print(C)\n",
    "    \n",
    "    #1.E\n",
    "    D = np.where((A-B)%2,B,A)\n",
    "    pritn(D)\n",
    "\n",
    "    #1.F\n",
    "    D_equals_A = np.argwhere(D==A).shape[0]"
   ]
  },
  {
   "cell_type": "markdown",
   "metadata": {},
   "source": [
    "# QUESTION 2"
   ]
  },
  {
   "cell_type": "code",
   "execution_count": 67,
   "metadata": {},
   "outputs": [],
   "source": [
    "def consecutive_2d_grid(num,along='row'):\n",
    "    if along == 'row':\n",
    "        X = np.ones((num,num))\n",
    "        for i in range(0,num):\n",
    "            X[i,:] = np.arange((i*num)+1,((i+1)*num)+1)\n",
    "    if along == 'column':\n",
    "        X = np.ones((num,num))\n",
    "        for i in range(0,num):\n",
    "            X[:,i] = np.arange((i*num)+1,((i+1)*num)+1)\n",
    "    return X"
   ]
  },
  {
   "cell_type": "markdown",
   "metadata": {},
   "source": [
    "# QUESTION 3"
   ]
  },
  {
   "cell_type": "code",
   "execution_count": null,
   "metadata": {},
   "outputs": [],
   "source": []
  }
 ],
 "metadata": {
  "kernelspec": {
   "display_name": "Python 3",
   "language": "python",
   "name": "python3"
  },
  "language_info": {
   "codemirror_mode": {
    "name": "ipython",
    "version": 3
   },
   "file_extension": ".py",
   "mimetype": "text/x-python",
   "name": "python",
   "nbconvert_exporter": "python",
   "pygments_lexer": "ipython3",
   "version": "3.8.2"
  }
 },
 "nbformat": 4,
 "nbformat_minor": 4
}
